{
  "nbformat": 4,
  "nbformat_minor": 0,
  "metadata": {
    "colab": {
      "provenance": []
    },
    "kernelspec": {
      "name": "python3",
      "display_name": "Python 3"
    },
    "language_info": {
      "name": "python"
    }
  },
  "cells": [
    {
      "cell_type": "code",
      "execution_count": 9,
      "metadata": {
        "colab": {
          "base_uri": "https://localhost:8080/"
        },
        "id": "di1qzGy86G1R",
        "outputId": "3c60baf7-7457-41e6-c289-c34cc0fb99fd"
      },
      "outputs": [
        {
          "output_type": "stream",
          "name": "stdout",
          "text": [
            "Updated Model Accuracy: 0.78\n",
            "\n",
            "Classification Report:\n",
            "               precision    recall  f1-score   support\n",
            "\n",
            "           0       1.00      1.00      1.00       403\n",
            "           1       0.56      0.54      0.55       403\n",
            "           2       0.56      0.58      0.57       403\n",
            "           3       1.00      1.00      1.00       403\n",
            "           4       1.00      1.00      1.00       403\n",
            "           5       0.69      0.61      0.65       403\n",
            "           6       0.65      0.72      0.68       403\n",
            "\n",
            "    accuracy                           0.78      2821\n",
            "   macro avg       0.78      0.78      0.78      2821\n",
            "weighted avg       0.78      0.78      0.78      2821\n",
            "\n",
            "\n",
            "Confusion Matrix:\n",
            " [[403   0   0   0   0   0   0]\n",
            " [  0 217 186   0   0   0   0]\n",
            " [  0 170 233   0   0   0   0]\n",
            " [  0   0   0 403   0   0   0]\n",
            " [  0   0   0   0 403   0   0]\n",
            " [  0   0   0   0   0 247 156]\n",
            " [  0   0   0   0   0 113 290]]\n",
            "Updated Model and encoders saved successfully!\n"
          ]
        }
      ],
      "source": [
        "import pandas as pd\n",
        "import numpy as np\n",
        "import joblib\n",
        "from sklearn.model_selection import train_test_split, GridSearchCV\n",
        "from sklearn.preprocessing import LabelEncoder, StandardScaler\n",
        "from xgboost import XGBClassifier\n",
        "from sklearn.metrics import accuracy_score, classification_report, confusion_matrix\n",
        "from imblearn.over_sampling import SMOTE\n",
        "\n",
        "# Load dataset\n",
        "df = pd.read_csv(\"/content/dhan_setu_modified_updated (1).csv\")\n",
        "\n",
        "# Drop duplicates and handle missing values\n",
        "df.drop_duplicates(inplace=True)\n",
        "df.dropna(inplace=True)\n",
        "\n",
        "# Merge overlapping classes (2 -> 3 and 5 -> 6)\n",
        "df[\"Investment Recommendation\"] = df[\"Investment Recommendation\"].replace({2: 3, 5: 6})\n",
        "\n",
        "# Encode categorical features\n",
        "label_encoders = {}\n",
        "categorical_cols = [\"Occupation\", \"Risk Tolerance\", \"Investment Duration\", \"Financial Goals\", \"Liquidity Needs\", \"Investment Recommendation\"]\n",
        "\n",
        "for col in categorical_cols:\n",
        "    le = LabelEncoder()\n",
        "    df[col] = le.fit_transform(df[col])\n",
        "    label_encoders[col] = le  # Store encoder for later use\n",
        "\n",
        "# Define features and target\n",
        "X = df.drop(columns=[\"Investment Recommendation\"])\n",
        "y = df[\"Investment Recommendation\"]\n",
        "\n",
        "# Scale numerical features\n",
        "scaler = StandardScaler()\n",
        "X[X.select_dtypes(include=[\"int64\", \"float64\"]).columns] = scaler.fit_transform(X.select_dtypes(include=[\"int64\", \"float64\"]))\n",
        "\n",
        "# Handle class imbalance using SMOTE\n",
        "smote = SMOTE(random_state=42)\n",
        "X, y = smote.fit_resample(X, y)\n",
        "\n",
        "# Split dataset into training and testing sets\n",
        "X_train, X_test, y_train, y_test = train_test_split(X, y, test_size=0.2, random_state=42, stratify=y)\n",
        "\n",
        "# Train an XGBoost Classifier\n",
        "xgb = XGBClassifier(n_estimators=160, max_depth=10, learning_rate=0.1, subsample=1, random_state=42, eval_metric=\"mlogloss\")\n",
        "xgb.fit(X_train, y_train)\n",
        "\n",
        "# Make predictions\n",
        "y_pred = xgb.predict(X_test)\n",
        "\n",
        "# Evaluate the model\n",
        "accuracy = accuracy_score(y_test, y_pred)\n",
        "print(f\"Updated Model Accuracy: {accuracy:.2f}\")\n",
        "\n",
        "# Display classification report and confusion matrix\n",
        "print(\"\\nClassification Report:\\n\", classification_report(y_test, y_pred))\n",
        "print(\"\\nConfusion Matrix:\\n\", confusion_matrix(y_test, y_pred))\n",
        "\n",
        "# Save the trained model and encoders\n",
        "joblib.dump(xgb, \"investment_classifier_updated.pkl\")\n",
        "joblib.dump(label_encoders, \"label_encoders_updated.pkl\")\n",
        "joblib.dump(scaler, \"scaler_updated.pkl\")\n",
        "\n",
        "print(\"Updated Model and encoders saved successfully!\")\n"
      ]
    },
    {
      "cell_type": "code",
      "source": [
        "import joblib\n",
        "import pandas as pd\n",
        "\n",
        "# Load the trained model and encoders\n",
        "model = joblib.load(\"investment_classifier_updated.pkl\")\n",
        "label_encoders = joblib.load(\"label_encoders_updated.pkl\")\n",
        "scaler = joblib.load(\"scaler_updated.pkl\")\n",
        "\n",
        "# Function to encode categorical inputs\n",
        "def encode_input(column_name, value):\n",
        "    if column_name in label_encoders:\n",
        "        # Handle unseen labels by returning a default value or raising a warning\n",
        "        try:\n",
        "            return label_encoders[column_name].transform([value])[0]\n",
        "        except ValueError:\n",
        "            print(f\"Warning: Unseen label '{value}' encountered for column '{column_name}'. Returning -1.\")\n",
        "            return -1  # Or any other appropriate default value\n",
        "    return value\n",
        "\n",
        "# User inputs (Replace these values with real inputs)#23,Teacher,Medium,Long-term,Wealth Building,500000,High\n",
        "user_data = {\n",
        "    \"Age\": 38,\n",
        "    \"Occupation\": \"Doctor\",  # Categorical\n",
        "    \"Risk Tolerance\": \"High\",  # Categorical\n",
        "    \"Investment Duration\": \"Mid-Term\",  # Categorical\n",
        "    \"Financial Goals\": \"Wealth Building\",  # Categorical\n",
        "    \"Investment Amount\": 600000,\n",
        "    \"Liquidity Needs\": \"High\",  # Categorical\n",
        "    \"Annual Income\":1800000\n",
        "}\n",
        "\n",
        "# Convert inputs into a DataFrame\n",
        "input_df = pd.DataFrame([user_data])\n",
        "\n",
        "# Encode categorical inputs\n",
        "for col in input_df.columns:\n",
        "    input_df[col] = encode_input(col, input_df[col].values[0])\n",
        "\n",
        "# Scale numerical features\n",
        "input_df[input_df.select_dtypes(include=[\"int64\", \"float64\"]).columns] = scaler.transform(input_df)\n",
        "\n",
        "# Make prediction\n",
        "predicted_class = model.predict(input_df)\n",
        "decoded_prediction = label_encoders[\"Investment Recommendation\"].inverse_transform(predicted_class)\n",
        "\n",
        "print(\"\\n🔹 Recommended Investment Option:\", decoded_prediction[0])"
      ],
      "metadata": {
        "id": "YBnsco6pHrg8",
        "colab": {
          "base_uri": "https://localhost:8080/"
        },
        "outputId": "2d37f78c-aed4-4190-d3ea-f07173afa671"
      },
      "execution_count": 34,
      "outputs": [
        {
          "output_type": "stream",
          "name": "stdout",
          "text": [
            "Warning: Unseen label 'Mid-Term' encountered for column 'Investment Duration'. Returning -1.\n",
            "\n",
            "🔹 Recommended Investment Option: Stocks: 50%; Mutual Funds - Small Cap: 30%; Mutual Funds - Mid Cap (Lumpsum): 20%\n"
          ]
        }
      ]
    },
    {
      "cell_type": "markdown",
      "source": [],
      "metadata": {
        "id": "tyYBSSC0EL_a"
      }
    },
    {
      "cell_type": "code",
      "source": [],
      "metadata": {
        "id": "lQLJ1o1ooRbo"
      },
      "execution_count": null,
      "outputs": []
    }
  ]
}